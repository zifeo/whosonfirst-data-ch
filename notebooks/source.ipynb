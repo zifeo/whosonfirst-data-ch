{
 "cells": [
  {
   "cell_type": "code",
   "execution_count": null,
   "metadata": {},
   "outputs": [],
   "source": [
    "%matplotlib inline\n",
    "%load_ext autoreload\n",
    "%autoreload 2"
   ]
  },
  {
   "cell_type": "code",
   "execution_count": null,
   "metadata": {},
   "outputs": [],
   "source": [
    "import pandas as pd\n",
    "from zipfile import ZipFile\n",
    "import requests as r\n",
    "from io import BytesIO\n",
    "from geopandas.tools import sjoin\n",
    "import pandas_bokeh\n",
    "import geopandas as gpd\n",
    "from bokeh.util.warnings import BokehDeprecationWarning\n",
    "import warnings"
   ]
  },
  {
   "cell_type": "code",
   "execution_count": null,
   "metadata": {},
   "outputs": [],
   "source": [
    "pandas_bokeh.output_notebook()"
   ]
  },
  {
   "cell_type": "code",
   "execution_count": null,
   "metadata": {},
   "outputs": [],
   "source": [
    "warnings.simplefilter('ignore', BokehDeprecationWarning)"
   ]
  },
  {
   "cell_type": "code",
   "execution_count": null,
   "metadata": {},
   "outputs": [],
   "source": []
  },
  {
   "cell_type": "code",
   "execution_count": null,
   "metadata": {},
   "outputs": [],
   "source": [
    "# license: https://www.swisstopo.admin.ch/en/home/meta/conditions/geodata/free-geodata.html\n",
    "boundaries_url = 'http://data.geo.admin.ch/ch.swisstopo.swissboundaries3d-kanton-flaeche.fill/data.zip'\n",
    "names_url = 'http://data.geo.admin.ch/ch.swisstopo.swissnames3d/data.zip'\n",
    "npas_url = 'https://data.geo.admin.ch/ch.swisstopo-vd.ortschaftenverzeichnis_plz/PLZO_SHP_LV95.zip'\n",
    "npas_names_url = 'https://data.geo.admin.ch/ch.swisstopo-vd.ortschaftenverzeichnis_plz/PLZO_CSV_WGS84.zip'"
   ]
  },
  {
   "cell_type": "code",
   "execution_count": null,
   "metadata": {},
   "outputs": [],
   "source": [
    "def unzip(uri, output=None):\n",
    "    z = ZipFile(uri)\n",
    "    z.extractall(output)"
   ]
  },
  {
   "cell_type": "code",
   "execution_count": null,
   "metadata": {},
   "outputs": [],
   "source": [
    "def load(url):\n",
    "    req = r.get(url, stream=True)\n",
    "    unzip(BytesIO(req.content), '../data')"
   ]
  },
  {
   "cell_type": "code",
   "execution_count": null,
   "metadata": {},
   "outputs": [],
   "source": []
  },
  {
   "cell_type": "code",
   "execution_count": null,
   "metadata": {},
   "outputs": [],
   "source": [
    "load(boundaries_url)"
   ]
  },
  {
   "cell_type": "code",
   "execution_count": null,
   "metadata": {},
   "outputs": [],
   "source": [
    "load(names_url)"
   ]
  },
  {
   "cell_type": "code",
   "execution_count": null,
   "metadata": {},
   "outputs": [],
   "source": [
    "load(npas_url)"
   ]
  },
  {
   "cell_type": "code",
   "execution_count": null,
   "metadata": {},
   "outputs": [],
   "source": [
    "load(npas_names_url)"
   ]
  },
  {
   "cell_type": "code",
   "execution_count": null,
   "metadata": {},
   "outputs": [],
   "source": [
    "unzip('../data/SHAPEFILE_LV95_LN02.zip', '../data')"
   ]
  },
  {
   "cell_type": "code",
   "execution_count": null,
   "metadata": {},
   "outputs": [],
   "source": [
    "unzip('../data/swissNAMES3D_LV95.zip', '../data')"
   ]
  },
  {
   "cell_type": "code",
   "execution_count": null,
   "metadata": {},
   "outputs": [],
   "source": []
  },
  {
   "cell_type": "code",
   "execution_count": null,
   "metadata": {},
   "outputs": [],
   "source": [
    "# Pays / Land\n",
    "countries_uri = '../data/SHAPEFILE_LV95_LN02/swissBOUNDARIES3D_1_3_TLM_LANDESGEBIET.shp'\n",
    "countries = gpd.read_file(countries_uri)\n",
    "countries.crs = {'init': 'epsg:2056'}\n",
    "countries = countries.to_crs(epsg=4326)\n",
    "\n",
    "# filter DE/IT/LI\n",
    "countries = countries[countries.ICC == 'CH']\n",
    "\n",
    "countries = countries[['UUID', 'ICC', 'NAME', 'LANDESFLAE', 'SEE_FLAECH', 'EINWOHNERZ', 'geometry']]"
   ]
  },
  {
   "cell_type": "code",
   "execution_count": null,
   "metadata": {},
   "outputs": [],
   "source": [
    "countries.plot_bokeh(simplify_shapes=100, hovertool_string=\"@NAME\")\n",
    "countries.head()"
   ]
  },
  {
   "cell_type": "code",
   "execution_count": null,
   "metadata": {},
   "outputs": [],
   "source": [
    "#countries[['geometry']].to_file('../out/countries.geojson', driver='GeoJSON')"
   ]
  },
  {
   "cell_type": "code",
   "execution_count": null,
   "metadata": {},
   "outputs": [],
   "source": []
  },
  {
   "cell_type": "code",
   "execution_count": null,
   "metadata": {},
   "outputs": [],
   "source": [
    "# Cantons / Kantone\n",
    "regions_uri = '../data/SHAPEFILE_LV95_LN02/swissBOUNDARIES3D_1_3_TLM_KANTONSGEBIET.shp'\n",
    "regions = gpd.read_file(regions_uri)\n",
    "regions.crs = {'init': 'epsg:2056'}\n",
    "regions = regions.to_crs(epsg=4326)\n",
    "\n",
    "regions = regions[['UUID', 'NAME', 'SEE_FLAECH', 'KANTONSNUM', 'KANTONSFLA', 'KT_TEIL', 'EINWOHNERZ', 'geometry']].sort_values('KT_TEIL').dissolve('KANTONSNUM').reset_index().drop(columns='KT_TEIL')"
   ]
  },
  {
   "cell_type": "code",
   "execution_count": null,
   "metadata": {},
   "outputs": [],
   "source": [
    "regions.plot_bokeh(simplify_shapes=100, hovertool_string=\"@NAME\")\n",
    "regions.head()"
   ]
  },
  {
   "cell_type": "code",
   "execution_count": null,
   "metadata": {},
   "outputs": [],
   "source": [
    "#regions[['geometry']].to_file('../out/regions.geojson', driver='GeoJSON')"
   ]
  },
  {
   "cell_type": "code",
   "execution_count": null,
   "metadata": {},
   "outputs": [],
   "source": []
  },
  {
   "cell_type": "code",
   "execution_count": null,
   "metadata": {},
   "outputs": [],
   "source": [
    "# Districts / Bezirke\n",
    "counties_url = '../data/SHAPEFILE_LV95_LN02/swissBOUNDARIES3D_1_3_TLM_BEZIRKSGEBIET.shp'\n",
    "counties = gpd.read_file(counties_url)\n",
    "counties.crs = {'init': 'epsg:2056'}\n",
    "counties = counties.to_crs(epsg=4326)\n",
    "\n",
    "counties = counties[['UUID', 'NAME', 'SEE_FLAECH', 'BEZIRKSNUM', 'BEZIRKSFLA', 'BEZIRK_TEI', 'KANTONSNUM', 'EINWOHNERZ', 'geometry']].sort_values('BEZIRK_TEI').dissolve('BEZIRKSNUM').reset_index().drop(columns='BEZIRK_TEI')"
   ]
  },
  {
   "cell_type": "code",
   "execution_count": null,
   "metadata": {},
   "outputs": [],
   "source": [
    "counties.plot_bokeh(simplify_shapes=100, hovertool_string=\"@NAME\")\n",
    "counties.head()"
   ]
  },
  {
   "cell_type": "code",
   "execution_count": null,
   "metadata": {},
   "outputs": [],
   "source": [
    "#counties[['geometry']].to_file('../out/counties.geojson', driver='GeoJSON')"
   ]
  },
  {
   "cell_type": "code",
   "execution_count": null,
   "metadata": {},
   "outputs": [],
   "source": []
  },
  {
   "cell_type": "code",
   "execution_count": null,
   "metadata": {},
   "outputs": [],
   "source": [
    "# communes / Gemeinden\n",
    "localadmins_uri = '../data/SHAPEFILE_LV95_LN02/swissBOUNDARIES3D_1_3_TLM_HOHEITSGEBIET.shp'\n",
    "localadmins = gpd.read_file(localadmins_uri)\n",
    "localadmins.crs = {'init': 'epsg:2056'}\n",
    "localadmins = localadmins.to_crs(epsg=4326)\n",
    "\n",
    "# filter DE/IT/LI\n",
    "localadmins = localadmins[localadmins.ICC == 'CH']\n",
    "\n",
    "localadmins = localadmins[['UUID', 'ICC', 'NAME', 'SEE_FLAECH', 'SHN', 'GEM_FLAECH', 'GEM_TEIL', 'BFS_NUMMER', 'KANTONSNUM', 'EINWOHNERZ', 'geometry']].sort_values('GEM_TEIL').dissolve('BFS_NUMMER').reset_index().drop(columns='GEM_TEIL')"
   ]
  },
  {
   "cell_type": "code",
   "execution_count": null,
   "metadata": {},
   "outputs": [],
   "source": [
    "localadmins.plot_bokeh(simplify_shapes=100, hovertool_string=\"@NAME\")\n",
    "localadmins.head()"
   ]
  },
  {
   "cell_type": "code",
   "execution_count": null,
   "metadata": {},
   "outputs": [],
   "source": [
    "#localadmins[['geometry']].to_file('../out/localadmins.geojson', driver='GeoJSON')"
   ]
  },
  {
   "cell_type": "code",
   "execution_count": null,
   "metadata": {},
   "outputs": [],
   "source": []
  },
  {
   "cell_type": "code",
   "execution_count": null,
   "metadata": {},
   "outputs": [],
   "source": [
    "# Villes+villages / Städte+Dörfer\n",
    "localities_uri = '../data/swissNAMES3D_LV95/shp_LV95_LN02/swissNAMES3D_PLY.shp'\n",
    "localities = gpd.read_file(localities_uri)\n",
    "localities.crs = {'init': 'epsg:2056'}\n",
    "localities = localities.to_crs(epsg=4326)\n",
    "\n",
    "# filter fremd (bigs regions) + k_W (schools, lakes, etc.)\n",
    "localities = localities[(localities.STATUS != 'fremd') & (localities.STATUS != 'k_WOBJEKTART')]\n",
    "# keep places\n",
    "localities = localities[localities.OBJEKTART == 'Ort']\n",
    "# only in CH\n",
    "localities = sjoin(countries[['geometry']], localities)\n",
    "\n",
    "localities = localities[['UUID', 'NAME', 'SPRACHCODE', 'geometry']]"
   ]
  },
  {
   "cell_type": "code",
   "execution_count": null,
   "metadata": {},
   "outputs": [],
   "source": [
    "localities.plot_bokeh(simplify_shapes=100, hovertool_string=\"@NAME\")\n",
    "localities.head()"
   ]
  },
  {
   "cell_type": "code",
   "execution_count": null,
   "metadata": {},
   "outputs": [],
   "source": [
    "# slow-slow, heavy-heavy\n",
    "#localities[['geometry']].to_file('../out/localities.geojson', driver='GeoJSON')"
   ]
  },
  {
   "cell_type": "code",
   "execution_count": null,
   "metadata": {},
   "outputs": [],
   "source": []
  },
  {
   "cell_type": "code",
   "execution_count": null,
   "metadata": {},
   "outputs": [],
   "source": [
    "# Quartiers / Nachbarschaften\n",
    "neighborhoods_uri = '../data/swissNAMES3D_LV95/shp_LV95_LN02/swissNAMES3D_PLY.shp'\n",
    "neighborhoods = gpd.read_file(neighborhoods_uri)\n",
    "neighborhoods.crs = {'init': 'epsg:2056'}\n",
    "neighborhoods = neighborhoods.to_crs(epsg=4326)\n",
    "\n",
    "# filter fremd (bigs regions) + k_W (schools, lakes, etc.)\n",
    "neighborhoods = neighborhoods[(neighborhoods.STATUS != 'fremd') & (neighborhoods.STATUS != 'k_WOBJEKTART')]\n",
    "# keep neighborhood parts\n",
    "neighborhoods = neighborhoods[neighborhoods.OBJEKTART == 'Quartierteil']\n",
    "# only in CH\n",
    "neighborhoods = sjoin(countries[['geometry']], neighborhoods)\n",
    "\n",
    "neighborhoods = neighborhoods[['UUID', 'NAME', 'SPRACHCODE', 'geometry']]"
   ]
  },
  {
   "cell_type": "code",
   "execution_count": null,
   "metadata": {},
   "outputs": [],
   "source": [
    "neighborhoods.plot_bokeh(simplify_shapes=100, hovertool_string=\"@NAME\")\n",
    "neighborhoods.head()"
   ]
  },
  {
   "cell_type": "code",
   "execution_count": null,
   "metadata": {},
   "outputs": [],
   "source": [
    "# slow-slow, heavy-heavy\n",
    "#neighborhoods[['geometry']].to_file('../out/neighborhoods.geojson', driver='GeoJSON')"
   ]
  },
  {
   "cell_type": "code",
   "execution_count": null,
   "metadata": {},
   "outputs": [],
   "source": []
  },
  {
   "cell_type": "code",
   "execution_count": null,
   "metadata": {},
   "outputs": [],
   "source": [
    "npas_uri = '../data/PLZO_SHP_LV95/PLZO_PLZ.shp'\n",
    "npas = gpd.read_file(npas_uri)\n",
    "npas.crs = {'init': 'epsg:2056'}\n",
    "npas = npas.to_crs(epsg=4326)\n",
    "npas = npas[['PLZ', 'ZUSZIFF', 'geometry']]"
   ]
  },
  {
   "cell_type": "code",
   "execution_count": null,
   "metadata": {},
   "outputs": [],
   "source": [
    "npas_name_uri = '../data/PLZO_CSV_WGS84/PLZO_CSV_WGS84.csv'\n",
    "npas_name = pd.read_csv(npas_name_uri, sep=';', encoding=\"ISO-8859-1\")\n",
    "npas_name = npas_name.drop(['E', 'N'], axis=1).drop_duplicates()\n",
    "npas_name = npas_name[~npas_name.duplicated(['PLZ', 'Zusatzziffer'], keep='first')]\n",
    "npas_name = npas_name.set_index(['PLZ', 'Zusatzziffer'])"
   ]
  },
  {
   "cell_type": "code",
   "execution_count": null,
   "metadata": {},
   "outputs": [],
   "source": [
    "# Code postaux / Postleitzahlen\n",
    "postal_codes = npas.assign(\n",
    "    locality=npas[['PLZ', 'ZUSZIFF']].apply(lambda x: npas_name.loc[x.PLZ, x.ZUSZIFF].Ortschaftsname, axis=1),\n",
    "    localadmin=npas[['PLZ', 'ZUSZIFF']].apply(lambda x: npas_name.loc[x.PLZ, x.ZUSZIFF].Gemeindename, axis=1)\n",
    ")\n",
    "postal_codes = postal_codes[['locality', 'localadmin', 'PLZ', 'geometry']]\n",
    "postal_codes = postal_codes.rename({'PLZ': 'zip'}, axis=1)"
   ]
  },
  {
   "cell_type": "code",
   "execution_count": null,
   "metadata": {},
   "outputs": [],
   "source": [
    "postal_codes.plot_bokeh(simplify_shapes=100, hovertool_string=\"@PLZ @locality (@localadmin)\")\n",
    "postal_codes.head()"
   ]
  },
  {
   "cell_type": "code",
   "execution_count": null,
   "metadata": {},
   "outputs": [],
   "source": [
    "postal_codes[['geometry']].to_file('../out/postal_codes.geojson', driver='GeoJSON')"
   ]
  },
  {
   "cell_type": "code",
   "execution_count": null,
   "metadata": {},
   "outputs": [],
   "source": []
  },
  {
   "cell_type": "code",
   "execution_count": null,
   "metadata": {},
   "outputs": [],
   "source": []
  },
  {
   "cell_type": "code",
   "execution_count": null,
   "metadata": {},
   "outputs": [],
   "source": []
  }
 ],
 "metadata": {
  "kernelspec": {
   "display_name": "Python 3",
   "language": "python",
   "name": "python3"
  },
  "language_info": {
   "codemirror_mode": {
    "name": "ipython",
    "version": 3
   },
   "file_extension": ".py",
   "mimetype": "text/x-python",
   "name": "python",
   "nbconvert_exporter": "python",
   "pygments_lexer": "ipython3",
   "version": "3.7.4"
  }
 },
 "nbformat": 4,
 "nbformat_minor": 2
}
